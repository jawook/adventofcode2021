{
  "nbformat": 4,
  "nbformat_minor": 0,
  "metadata": {
    "colab": {
      "name": "Dec03a",
      "provenance": [],
      "mount_file_id": "13rnME6m8C5NcK4R1DNaqDxoKXXJOCN8A",
      "authorship_tag": "ABX9TyMNsSBU6l/sKaQb2neNk3p2",
      "include_colab_link": true
    },
    "kernelspec": {
      "name": "python3",
      "display_name": "Python 3"
    },
    "language_info": {
      "name": "python"
    }
  },
  "cells": [
    {
      "cell_type": "markdown",
      "metadata": {
        "id": "view-in-github",
        "colab_type": "text"
      },
      "source": [
        "<a href=\"https://colab.research.google.com/github/jawook/adventofcode2021/blob/main/Dec03a.ipynb\" target=\"_parent\"><img src=\"https://colab.research.google.com/assets/colab-badge.svg\" alt=\"Open In Colab\"/></a>"
      ]
    },
    {
      "cell_type": "code",
      "metadata": {
        "id": "CRlV0JSj3lvz",
        "colab": {
          "base_uri": "https://localhost:8080/"
        },
        "outputId": "b8e11c0e-4ff9-4a4c-ee6e-04ecf7e69596"
      },
      "source": [
        "#import data\n",
        "fPath = \"/content/drive/MyDrive/Advent of Code/2021/Dec 03/\"\n",
        "f = open(fPath+\"input.txt\", \"r\")\n",
        "inputs = f.read()\n",
        "lines = inputs.splitlines()\n",
        "#create dataframe\n",
        "import pandas as pd\n",
        "df = pd.DataFrame(lines)\n",
        "df = df.rename(columns={0:\"orig\"})\n",
        "for i in range(0, 12): #loop through and create a new column for each bit value in the dataset\n",
        "  df[i] = df['orig'].str[i]\n",
        "gamma = []\n",
        "epsilon = []\n",
        "for i in range(0,12):\n",
        "  gamma.append(df[i].value_counts().idxmax()) #the current bit value for gamma is equal to the most common bit value in that position\n",
        "  epsilon.append(df[i].value_counts().idxmin()) #the current bit value for epsilon is equal to the most common bit value in that position\n",
        "gamma = ''.join(gamma) #concatentate the bit values into a single binary string\n",
        "epsilon = ''.join(epsilon)\n",
        "intgamma = int(gamma,2) #convert the binary string to an integer number\n",
        "intepsilon = int(epsilon,2)\n",
        "intpowercons = intgamma * intepsilon\n",
        "print(\"The value of gamma is \" + str(intgamma))\n",
        "print(\"The value of epsilong is \" + str(intepsilon))\n",
        "print(\"The power consumption is \" + str(intpowercons))"
      ],
      "execution_count": 1,
      "outputs": [
        {
          "output_type": "stream",
          "name": "stdout",
          "text": [
            "The value of gamma is 2502\n",
            "The value of epsilong is 1593\n",
            "The power consumption is 3985686\n"
          ]
        }
      ]
    }
  ]
}