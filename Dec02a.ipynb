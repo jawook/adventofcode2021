{
  "nbformat": 4,
  "nbformat_minor": 0,
  "metadata": {
    "colab": {
      "name": "Dec02a",
      "provenance": [],
      "mount_file_id": "1zOVBXaelPkA6L8BdMBKtNi33i77-M0uW",
      "authorship_tag": "ABX9TyMaGS3A7aIZhGGi5mRtnSWu",
      "include_colab_link": true
    },
    "kernelspec": {
      "name": "python3",
      "display_name": "Python 3"
    },
    "language_info": {
      "name": "python"
    }
  },
  "cells": [
    {
      "cell_type": "markdown",
      "metadata": {
        "id": "view-in-github",
        "colab_type": "text"
      },
      "source": [
        "<a href=\"https://colab.research.google.com/github/jawook/adventofcode2021/blob/main/Dec02a.ipynb\" target=\"_parent\"><img src=\"https://colab.research.google.com/assets/colab-badge.svg\" alt=\"Open In Colab\"/></a>"
      ]
    },
    {
      "cell_type": "code",
      "metadata": {
        "id": "zEUvge6B9TFx"
      },
      "source": [
        "import pandas as pd\n",
        "inputloc = \"/content/drive/MyDrive/Advent of Code/2021/Dec 02/input.csv\"\n",
        "df = pd.read_csv(inputloc, header = None)"
      ],
      "execution_count": 91,
      "outputs": []
    },
    {
      "cell_type": "code",
      "metadata": {
        "colab": {
          "base_uri": "https://localhost:8080/",
          "height": 206
        },
        "id": "D0F6ZbXv9Zv5",
        "outputId": "2aec538b-289d-4e11-adef-ef35031a8f48"
      },
      "source": [
        "df = df.rename(columns={0:\"command\"})\n",
        "df['ident'] = df['command'].str[:1] #get the first letter of the command to determine direction\n",
        "df['num'] = df['command'].str.replace(r'\\D+', '').astype(int) #drop everything but numbers and cast as an integer for num\n",
        "df['xmov'] = (df['ident'] == 'f') * (df['num']) #if ident is f, this is and positive xmov\n",
        "df['cumxmov'] = df['xmov'].cumsum() #get a running total fo the x moves\n",
        "df['ymov'] = ((df['ident'] == 'd') * (df['num'])) + ((df['ident'] == 'u') * (-df['num'])) #if ident is a u this is a negative y move, if d this is a positive y move\n",
        "df['cumymov'] = df['ymov'].cumsum() #get a running total of the y moves\n",
        "df.tail()"
      ],
      "execution_count": 92,
      "outputs": [
        {
          "output_type": "execute_result",
          "data": {
            "text/html": [
              "<div>\n",
              "<style scoped>\n",
              "    .dataframe tbody tr th:only-of-type {\n",
              "        vertical-align: middle;\n",
              "    }\n",
              "\n",
              "    .dataframe tbody tr th {\n",
              "        vertical-align: top;\n",
              "    }\n",
              "\n",
              "    .dataframe thead th {\n",
              "        text-align: right;\n",
              "    }\n",
              "</style>\n",
              "<table border=\"1\" class=\"dataframe\">\n",
              "  <thead>\n",
              "    <tr style=\"text-align: right;\">\n",
              "      <th></th>\n",
              "      <th>command</th>\n",
              "      <th>ident</th>\n",
              "      <th>num</th>\n",
              "      <th>xmov</th>\n",
              "      <th>cumxmov</th>\n",
              "      <th>ymov</th>\n",
              "      <th>cumymov</th>\n",
              "    </tr>\n",
              "  </thead>\n",
              "  <tbody>\n",
              "    <tr>\n",
              "      <th>995</th>\n",
              "      <td>forward 4</td>\n",
              "      <td>f</td>\n",
              "      <td>4</td>\n",
              "      <td>4</td>\n",
              "      <td>1841</td>\n",
              "      <td>0</td>\n",
              "      <td>913</td>\n",
              "    </tr>\n",
              "    <tr>\n",
              "      <th>996</th>\n",
              "      <td>down 5</td>\n",
              "      <td>d</td>\n",
              "      <td>5</td>\n",
              "      <td>0</td>\n",
              "      <td>1841</td>\n",
              "      <td>5</td>\n",
              "      <td>918</td>\n",
              "    </tr>\n",
              "    <tr>\n",
              "      <th>997</th>\n",
              "      <td>down 3</td>\n",
              "      <td>d</td>\n",
              "      <td>3</td>\n",
              "      <td>0</td>\n",
              "      <td>1841</td>\n",
              "      <td>3</td>\n",
              "      <td>921</td>\n",
              "    </tr>\n",
              "    <tr>\n",
              "      <th>998</th>\n",
              "      <td>up 5</td>\n",
              "      <td>u</td>\n",
              "      <td>5</td>\n",
              "      <td>0</td>\n",
              "      <td>1841</td>\n",
              "      <td>-5</td>\n",
              "      <td>916</td>\n",
              "    </tr>\n",
              "    <tr>\n",
              "      <th>999</th>\n",
              "      <td>forward 4</td>\n",
              "      <td>f</td>\n",
              "      <td>4</td>\n",
              "      <td>4</td>\n",
              "      <td>1845</td>\n",
              "      <td>0</td>\n",
              "      <td>916</td>\n",
              "    </tr>\n",
              "  </tbody>\n",
              "</table>\n",
              "</div>"
            ],
            "text/plain": [
              "       command ident  num  xmov  cumxmov  ymov  cumymov\n",
              "995  forward 4     f    4     4     1841     0      913\n",
              "996     down 5     d    5     0     1841     5      918\n",
              "997     down 3     d    3     0     1841     3      921\n",
              "998       up 5     u    5     0     1841    -5      916\n",
              "999  forward 4     f    4     4     1845     0      916"
            ]
          },
          "metadata": {},
          "execution_count": 92
        }
      ]
    },
    {
      "cell_type": "code",
      "metadata": {
        "colab": {
          "base_uri": "https://localhost:8080/"
        },
        "id": "p3-fk_xoIHuA",
        "outputId": "b1ed260f-8346-4e4a-fd81-21836e97ba85"
      },
      "source": [
        "1845 * 916"
      ],
      "execution_count": 93,
      "outputs": [
        {
          "output_type": "execute_result",
          "data": {
            "text/plain": [
              "1690020"
            ]
          },
          "metadata": {},
          "execution_count": 93
        }
      ]
    },
    {
      "cell_type": "code",
      "metadata": {
        "id": "6c0qagVXInp3"
      },
      "source": [
        ""
      ],
      "execution_count": null,
      "outputs": []
    }
  ]
}