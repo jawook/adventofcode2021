{
  "nbformat": 4,
  "nbformat_minor": 0,
  "metadata": {
    "colab": {
      "name": "Dec01a",
      "provenance": [],
      "mount_file_id": "1hTNeZ-kiSdpSTxDDKRoeAiRyZO29x0j2",
      "authorship_tag": "ABX9TyO4SgLtVrN9A1s/wjA6YfGT",
      "include_colab_link": true
    },
    "kernelspec": {
      "name": "python3",
      "display_name": "Python 3"
    },
    "language_info": {
      "name": "python"
    }
  },
  "cells": [
    {
      "cell_type": "markdown",
      "metadata": {
        "id": "view-in-github",
        "colab_type": "text"
      },
      "source": [
        "<a href=\"https://colab.research.google.com/github/jawook/adventofcode2021/blob/main/Dec01a.ipynb\" target=\"_parent\"><img src=\"https://colab.research.google.com/assets/colab-badge.svg\" alt=\"Open In Colab\"/></a>"
      ]
    },
    {
      "cell_type": "code",
      "metadata": {
        "id": "rJyA95rqp_v0"
      },
      "source": [
        "import pandas as pd\n",
        "inputloc = \"/content/drive/MyDrive/Advent of Code/2021/Dec 01a/input.csv\""
      ],
      "execution_count": 1,
      "outputs": []
    },
    {
      "cell_type": "code",
      "metadata": {
        "id": "hxiVP03RrYZX",
        "colab": {
          "base_uri": "https://localhost:8080/"
        },
        "outputId": "74eff85e-e864-4aec-c74b-736171976dbe"
      },
      "source": [
        "df = pd.read_csv(inputloc, header = None)\n",
        "df = df.rename(columns={0:\"depth\"}) \n",
        "df['pct'] = df['depth'].pct_change()\n",
        "df['increase'] = df['pct'] > 0\n",
        "df['increase'].value_counts()"
      ],
      "execution_count": 2,
      "outputs": [
        {
          "output_type": "execute_result",
          "data": {
            "text/plain": [
              "True     1195\n",
              "False     805\n",
              "Name: increase, dtype: int64"
            ]
          },
          "metadata": {},
          "execution_count": 2
        }
      ]
    }
  ]
}