{
  "nbformat": 4,
  "nbformat_minor": 0,
  "metadata": {
    "colab": {
      "name": "Dec01b",
      "provenance": [],
      "mount_file_id": "1xeQiBeOp7WeyGWPTNlasag5OaMeN2Ae5",
      "authorship_tag": "ABX9TyP7sNYt+lwaTetzvzrFSxLa",
      "include_colab_link": true
    },
    "kernelspec": {
      "name": "python3",
      "display_name": "Python 3"
    },
    "language_info": {
      "name": "python"
    }
  },
  "cells": [
    {
      "cell_type": "markdown",
      "metadata": {
        "id": "view-in-github",
        "colab_type": "text"
      },
      "source": [
        "<a href=\"https://colab.research.google.com/github/jawook/adventofcode2021/blob/main/Dec01b.ipynb\" target=\"_parent\"><img src=\"https://colab.research.google.com/assets/colab-badge.svg\" alt=\"Open In Colab\"/></a>"
      ]
    },
    {
      "cell_type": "code",
      "metadata": {
        "id": "ZBk7w53WxxDR"
      },
      "source": [
        "import pandas as pd\n",
        "inputloc = \"/content/drive/MyDrive/Advent of Code/2021/Dec 01a/input.csv\""
      ],
      "execution_count": 5,
      "outputs": []
    },
    {
      "cell_type": "code",
      "metadata": {
        "id": "1e-qJU7Ex_sb"
      },
      "source": [
        "df = pd.read_csv(inputloc, header = None)"
      ],
      "execution_count": 6,
      "outputs": []
    },
    {
      "cell_type": "code",
      "metadata": {
        "id": "V-4ua3oIyCL_"
      },
      "source": [
        "df = df.rename(columns={0:\"depth\"}) "
      ],
      "execution_count": 7,
      "outputs": []
    },
    {
      "cell_type": "code",
      "metadata": {
        "colab": {
          "base_uri": "https://localhost:8080/",
          "height": 423
        },
        "id": "oYSFZ5PKyNcX",
        "outputId": "0dbe29a5-94e7-4899-d64d-065bc1a862a4"
      },
      "source": [
        "df['roll'] = df['depth'].rolling(window = 3).sum()\n",
        "df"
      ],
      "execution_count": 14,
      "outputs": [
        {
          "output_type": "execute_result",
          "data": {
            "text/html": [
              "<div>\n",
              "<style scoped>\n",
              "    .dataframe tbody tr th:only-of-type {\n",
              "        vertical-align: middle;\n",
              "    }\n",
              "\n",
              "    .dataframe tbody tr th {\n",
              "        vertical-align: top;\n",
              "    }\n",
              "\n",
              "    .dataframe thead th {\n",
              "        text-align: right;\n",
              "    }\n",
              "</style>\n",
              "<table border=\"1\" class=\"dataframe\">\n",
              "  <thead>\n",
              "    <tr style=\"text-align: right;\">\n",
              "      <th></th>\n",
              "      <th>depth</th>\n",
              "      <th>roll</th>\n",
              "      <th>pct</th>\n",
              "      <th>increase</th>\n",
              "    </tr>\n",
              "  </thead>\n",
              "  <tbody>\n",
              "    <tr>\n",
              "      <th>0</th>\n",
              "      <td>184</td>\n",
              "      <td>NaN</td>\n",
              "      <td>NaN</td>\n",
              "      <td>False</td>\n",
              "    </tr>\n",
              "    <tr>\n",
              "      <th>1</th>\n",
              "      <td>205</td>\n",
              "      <td>NaN</td>\n",
              "      <td>NaN</td>\n",
              "      <td>False</td>\n",
              "    </tr>\n",
              "    <tr>\n",
              "      <th>2</th>\n",
              "      <td>211</td>\n",
              "      <td>600.0</td>\n",
              "      <td>NaN</td>\n",
              "      <td>False</td>\n",
              "    </tr>\n",
              "    <tr>\n",
              "      <th>3</th>\n",
              "      <td>213</td>\n",
              "      <td>629.0</td>\n",
              "      <td>0.048333</td>\n",
              "      <td>True</td>\n",
              "    </tr>\n",
              "    <tr>\n",
              "      <th>4</th>\n",
              "      <td>227</td>\n",
              "      <td>651.0</td>\n",
              "      <td>0.034976</td>\n",
              "      <td>True</td>\n",
              "    </tr>\n",
              "    <tr>\n",
              "      <th>...</th>\n",
              "      <td>...</td>\n",
              "      <td>...</td>\n",
              "      <td>...</td>\n",
              "      <td>...</td>\n",
              "    </tr>\n",
              "    <tr>\n",
              "      <th>1995</th>\n",
              "      <td>3273</td>\n",
              "      <td>9822.0</td>\n",
              "      <td>0.000204</td>\n",
              "      <td>True</td>\n",
              "    </tr>\n",
              "    <tr>\n",
              "      <th>1996</th>\n",
              "      <td>3272</td>\n",
              "      <td>9820.0</td>\n",
              "      <td>-0.000204</td>\n",
              "      <td>False</td>\n",
              "    </tr>\n",
              "    <tr>\n",
              "      <th>1997</th>\n",
              "      <td>3279</td>\n",
              "      <td>9824.0</td>\n",
              "      <td>0.000407</td>\n",
              "      <td>True</td>\n",
              "    </tr>\n",
              "    <tr>\n",
              "      <th>1998</th>\n",
              "      <td>3281</td>\n",
              "      <td>9832.0</td>\n",
              "      <td>0.000814</td>\n",
              "      <td>True</td>\n",
              "    </tr>\n",
              "    <tr>\n",
              "      <th>1999</th>\n",
              "      <td>3288</td>\n",
              "      <td>9848.0</td>\n",
              "      <td>0.001627</td>\n",
              "      <td>True</td>\n",
              "    </tr>\n",
              "  </tbody>\n",
              "</table>\n",
              "<p>2000 rows × 4 columns</p>\n",
              "</div>"
            ],
            "text/plain": [
              "      depth    roll       pct  increase\n",
              "0       184     NaN       NaN     False\n",
              "1       205     NaN       NaN     False\n",
              "2       211   600.0       NaN     False\n",
              "3       213   629.0  0.048333      True\n",
              "4       227   651.0  0.034976      True\n",
              "...     ...     ...       ...       ...\n",
              "1995   3273  9822.0  0.000204      True\n",
              "1996   3272  9820.0 -0.000204     False\n",
              "1997   3279  9824.0  0.000407      True\n",
              "1998   3281  9832.0  0.000814      True\n",
              "1999   3288  9848.0  0.001627      True\n",
              "\n",
              "[2000 rows x 4 columns]"
            ]
          },
          "metadata": {},
          "execution_count": 14
        }
      ]
    },
    {
      "cell_type": "code",
      "metadata": {
        "id": "cHFhDlAWypKT"
      },
      "source": [
        "df['pct'] = df['roll'].pct_change()"
      ],
      "execution_count": null,
      "outputs": []
    },
    {
      "cell_type": "code",
      "metadata": {
        "id": "9kr2niwYy64u"
      },
      "source": [
        "df['increase'] = df['pct'] > 0"
      ],
      "execution_count": 11,
      "outputs": []
    },
    {
      "cell_type": "code",
      "metadata": {
        "colab": {
          "base_uri": "https://localhost:8080/"
        },
        "id": "zo_7JHvdzAFo",
        "outputId": "0ebc8c27-bd83-47b3-bc05-1e6d471ccb62"
      },
      "source": [
        "df['increase'].value_counts()"
      ],
      "execution_count": 13,
      "outputs": [
        {
          "output_type": "execute_result",
          "data": {
            "text/plain": [
              "True     1235\n",
              "False     765\n",
              "Name: increase, dtype: int64"
            ]
          },
          "metadata": {},
          "execution_count": 13
        }
      ]
    },
    {
      "cell_type": "code",
      "metadata": {
        "id": "Ged6sbYszLa7"
      },
      "source": [
        ""
      ],
      "execution_count": null,
      "outputs": []
    }
  ]
}