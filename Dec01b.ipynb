{
  "nbformat": 4,
  "nbformat_minor": 0,
  "metadata": {
    "colab": {
      "name": "Dec01b",
      "provenance": [],
      "mount_file_id": "1xeQiBeOp7WeyGWPTNlasag5OaMeN2Ae5",
      "authorship_tag": "ABX9TyOi+Q7nLtTNs9b9XEWOdYRy",
      "include_colab_link": true
    },
    "kernelspec": {
      "name": "python3",
      "display_name": "Python 3"
    },
    "language_info": {
      "name": "python"
    }
  },
  "cells": [
    {
      "cell_type": "markdown",
      "metadata": {
        "id": "view-in-github",
        "colab_type": "text"
      },
      "source": [
        "<a href=\"https://colab.research.google.com/github/jawook/adventofcode2021/blob/main/Dec01b.ipynb\" target=\"_parent\"><img src=\"https://colab.research.google.com/assets/colab-badge.svg\" alt=\"Open In Colab\"/></a>"
      ]
    },
    {
      "cell_type": "code",
      "metadata": {
        "id": "ZBk7w53WxxDR"
      },
      "source": [
        "import pandas as pd\n",
        "inputloc = \"/content/drive/MyDrive/Advent of Code/2021/Dec 01a/input.csv\""
      ],
      "execution_count": 1,
      "outputs": []
    },
    {
      "cell_type": "code",
      "metadata": {
        "id": "1e-qJU7Ex_sb",
        "colab": {
          "base_uri": "https://localhost:8080/"
        },
        "outputId": "f57e58af-269d-4753-f25e-adc1b58df309"
      },
      "source": [
        "df = pd.read_csv(inputloc, header = None)\n",
        "df = df.rename(columns={0:\"depth\"}) \n",
        "df['roll'] = df['depth'].rolling(window = 3).sum()\n",
        "df['pct'] = df['roll'].pct_change()\n",
        "df['increase'] = df['pct'] > 0\n",
        "df['increase'].value_counts()"
      ],
      "execution_count": 8,
      "outputs": [
        {
          "output_type": "execute_result",
          "data": {
            "text/plain": [
              "True     1235\n",
              "False     765\n",
              "Name: increase, dtype: int64"
            ]
          },
          "metadata": {},
          "execution_count": 8
        }
      ]
    }
  ]
}