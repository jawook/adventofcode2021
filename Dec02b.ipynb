{
  "nbformat": 4,
  "nbformat_minor": 0,
  "metadata": {
    "colab": {
      "name": "Dec02b",
      "provenance": [],
      "mount_file_id": "1hmodWdp6zebQnbp0fKXfSCFVP81mdiHK",
      "authorship_tag": "ABX9TyNbmvDg11/M0wjrv+PTaCy4",
      "include_colab_link": true
    },
    "kernelspec": {
      "name": "python3",
      "display_name": "Python 3"
    },
    "language_info": {
      "name": "python"
    }
  },
  "cells": [
    {
      "cell_type": "markdown",
      "metadata": {
        "id": "view-in-github",
        "colab_type": "text"
      },
      "source": [
        "<a href=\"https://colab.research.google.com/github/jawook/adventofcode2021/blob/main/Dec02b.ipynb\" target=\"_parent\"><img src=\"https://colab.research.google.com/assets/colab-badge.svg\" alt=\"Open In Colab\"/></a>"
      ]
    },
    {
      "cell_type": "code",
      "metadata": {
        "id": "LialeV0OKrZe"
      },
      "source": [
        "import pandas as pd\n",
        "inputloc = \"/content/drive/MyDrive/Advent of Code/2021/Dec 02/input.csv\"\n",
        "df = pd.read_csv(inputloc, header = None)"
      ],
      "execution_count": 2,
      "outputs": []
    },
    {
      "cell_type": "code",
      "metadata": {
        "colab": {
          "base_uri": "https://localhost:8080/",
          "height": 206
        },
        "id": "6mCydMMHKwJX",
        "outputId": "df7f5a7d-be6d-4767-d319-f850019d91d4"
      },
      "source": [
        "df = df.rename(columns={0:\"command\"})\n",
        "df['ident'] = df['command'].str[:1] #get the first letter of the command to determine direction\n",
        "df['num'] = df['command'].str.replace(r'\\D+', '').astype(int) #drop everything but numbers and cast as an integer for num\n",
        "df['xmov'] = (df['ident'] == 'f') * (df['num']) #if ident is f, this is and positive xmov\n",
        "df['cumxmov'] = df['xmov'].cumsum() #get a running total fo the x moves\n",
        "df['aimmov'] = ((df['ident'] == 'd') * (df['num'])) + ((df['ident'] == 'u') * (-df['num'])) #if ident is a u this is a negative aim move, if d this is a positive aim move\n",
        "df['cumaim'] = df['aimmov'].cumsum() #get a running total of the aim moves (i.e. the current aim)\n",
        "df['ymove'] = df['xmov'] * df['cumaim'] #when you move forward, move your y by x times aim\n",
        "df['cumymove'] = df['ymove'].cumsum() #running total of y moves\n",
        "df.tail()"
      ],
      "execution_count": 8,
      "outputs": [
        {
          "output_type": "execute_result",
          "data": {
            "text/html": [
              "<div>\n",
              "<style scoped>\n",
              "    .dataframe tbody tr th:only-of-type {\n",
              "        vertical-align: middle;\n",
              "    }\n",
              "\n",
              "    .dataframe tbody tr th {\n",
              "        vertical-align: top;\n",
              "    }\n",
              "\n",
              "    .dataframe thead th {\n",
              "        text-align: right;\n",
              "    }\n",
              "</style>\n",
              "<table border=\"1\" class=\"dataframe\">\n",
              "  <thead>\n",
              "    <tr style=\"text-align: right;\">\n",
              "      <th></th>\n",
              "      <th>command</th>\n",
              "      <th>ident</th>\n",
              "      <th>num</th>\n",
              "      <th>xmov</th>\n",
              "      <th>cumxmov</th>\n",
              "      <th>aimmov</th>\n",
              "      <th>cumaim</th>\n",
              "      <th>ymove</th>\n",
              "      <th>cumymove</th>\n",
              "    </tr>\n",
              "  </thead>\n",
              "  <tbody>\n",
              "    <tr>\n",
              "      <th>995</th>\n",
              "      <td>forward 4</td>\n",
              "      <td>f</td>\n",
              "      <td>4</td>\n",
              "      <td>4</td>\n",
              "      <td>1841</td>\n",
              "      <td>0</td>\n",
              "      <td>913</td>\n",
              "      <td>3652</td>\n",
              "      <td>759744</td>\n",
              "    </tr>\n",
              "    <tr>\n",
              "      <th>996</th>\n",
              "      <td>down 5</td>\n",
              "      <td>d</td>\n",
              "      <td>5</td>\n",
              "      <td>0</td>\n",
              "      <td>1841</td>\n",
              "      <td>5</td>\n",
              "      <td>918</td>\n",
              "      <td>0</td>\n",
              "      <td>759744</td>\n",
              "    </tr>\n",
              "    <tr>\n",
              "      <th>997</th>\n",
              "      <td>down 3</td>\n",
              "      <td>d</td>\n",
              "      <td>3</td>\n",
              "      <td>0</td>\n",
              "      <td>1841</td>\n",
              "      <td>3</td>\n",
              "      <td>921</td>\n",
              "      <td>0</td>\n",
              "      <td>759744</td>\n",
              "    </tr>\n",
              "    <tr>\n",
              "      <th>998</th>\n",
              "      <td>up 5</td>\n",
              "      <td>u</td>\n",
              "      <td>5</td>\n",
              "      <td>0</td>\n",
              "      <td>1841</td>\n",
              "      <td>-5</td>\n",
              "      <td>916</td>\n",
              "      <td>0</td>\n",
              "      <td>759744</td>\n",
              "    </tr>\n",
              "    <tr>\n",
              "      <th>999</th>\n",
              "      <td>forward 4</td>\n",
              "      <td>f</td>\n",
              "      <td>4</td>\n",
              "      <td>4</td>\n",
              "      <td>1845</td>\n",
              "      <td>0</td>\n",
              "      <td>916</td>\n",
              "      <td>3664</td>\n",
              "      <td>763408</td>\n",
              "    </tr>\n",
              "  </tbody>\n",
              "</table>\n",
              "</div>"
            ],
            "text/plain": [
              "       command ident  num  xmov  cumxmov  aimmov  cumaim  ymove  cumymove\n",
              "995  forward 4     f    4     4     1841       0     913   3652    759744\n",
              "996     down 5     d    5     0     1841       5     918      0    759744\n",
              "997     down 3     d    3     0     1841       3     921      0    759744\n",
              "998       up 5     u    5     0     1841      -5     916      0    759744\n",
              "999  forward 4     f    4     4     1845       0     916   3664    763408"
            ]
          },
          "metadata": {},
          "execution_count": 8
        }
      ]
    },
    {
      "cell_type": "code",
      "metadata": {
        "colab": {
          "base_uri": "https://localhost:8080/"
        },
        "id": "zIPVzGPuMEj-",
        "outputId": "0fd6738c-6508-4e77-c2e1-de0feae10a85"
      },
      "source": [
        "1845 * 763408"
      ],
      "execution_count": 10,
      "outputs": [
        {
          "output_type": "execute_result",
          "data": {
            "text/plain": [
              "1408487760"
            ]
          },
          "metadata": {},
          "execution_count": 10
        }
      ]
    }
  ]
}